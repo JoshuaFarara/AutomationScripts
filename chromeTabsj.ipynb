{
 "cells": [
  {
   "cell_type": "code",
   "execution_count": 4,
   "id": "c0beb371",
   "metadata": {},
   "outputs": [],
   "source": [
    "import webbrowser\n",
    "\n",
    "\n",
    "def open_in_chrome(url):\n",
    "    # chrome_path = 'C:\\Program Files (x86)\\Google\\Chrome\\Application'  # Path to your Chrome installation\n",
    "    # browser = webbrowser.get(chrome_path)\n",
    "\n",
    "    webbrowser.open(url, new=2)\n",
    "\n",
    "\n",
    "    # for url in website_urls:\n",
    "    #     browser.open_new_tab(url)\n",
    "\n",
    "# Usage example\n",
    "website_urls = ['http://lyfjourney.com', 'https://joshuafarara.com', 'https://fararatheartist.com']\n",
    "# open_in_chrome(website_urls)\n",
    "for url in website_urls:\n",
    "    open_in_chrome(url)"
   ]
  }
 ],
 "metadata": {
  "kernelspec": {
   "display_name": "Python 3 (ipykernel)",
   "language": "python",
   "name": "python3"
  },
  "language_info": {
   "codemirror_mode": {
    "name": "ipython",
    "version": 3
   },
   "file_extension": ".py",
   "mimetype": "text/x-python",
   "name": "python",
   "nbconvert_exporter": "python",
   "pygments_lexer": "ipython3",
   "version": "3.9.12"
  }
 },
 "nbformat": 4,
 "nbformat_minor": 5
}

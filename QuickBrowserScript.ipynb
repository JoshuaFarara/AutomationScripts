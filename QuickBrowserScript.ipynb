{
 "cells": [
  {
   "cell_type": "markdown",
   "id": "595a21c6",
   "metadata": {},
   "source": [
    "# Quick Browser Script\n",
    "\n",
    "\n",
    "This script allows me to quickly open a set of google chrome tabs that I use commonly as a default workspace. This script will be applied to a macro button and with the click of a button I will open various workspaces and be able to begin work in a quick fashion. "
   ]
  },
  {
   "cell_type": "code",
   "execution_count": 3,
   "id": "4ace1a70",
   "metadata": {},
   "outputs": [],
   "source": [
    "import webbrowser\n",
    "\n",
    "def open_in_chrome(url):\n",
    "    chrome_path = 'C:\\Program Files (x86)\\Google\\Chrome\\Application %s'  # Path to your Chrome installation\n",
    "    browser = webbrowser.get(chrome_path)\n",
    "    \n",
    "    for url in website_urls:\n",
    "        browser.open_new_tab(url)\n",
    "\n",
    "# Usage example\n",
    "website_urls = ['http://lyfjourney.com/', 'https://joshuafarara.com/', 'https://fararatheartist.com/']  \n",
    "open_in_chrome(website_urls)"
   ]
  },
  {
   "cell_type": "code",
   "execution_count": null,
   "id": "2a33240e",
   "metadata": {},
   "outputs": [],
   "source": []
  }
 ],
 "metadata": {
  "kernelspec": {
   "display_name": "Python 3 (ipykernel)",
   "language": "python",
   "name": "python3"
  },
  "language_info": {
   "codemirror_mode": {
    "name": "ipython",
    "version": 3
   },
   "file_extension": ".py",
   "mimetype": "text/x-python",
   "name": "python",
   "nbconvert_exporter": "python",
   "pygments_lexer": "ipython3",
   "version": "3.9.12"
  }
 },
 "nbformat": 4,
 "nbformat_minor": 5
}
